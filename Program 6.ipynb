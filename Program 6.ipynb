{
 "cells": [
  {
   "cell_type": "code",
   "execution_count": 2,
   "id": "f073b760-92f2-4db7-a0d3-49fca3442a2d",
   "metadata": {},
   "outputs": [
    {
     "name": "stdout",
     "output_type": "stream",
     "text": [
      "101\n",
      "Please enter a positive integer.\n"
     ]
    }
   ],
   "source": [
    "'''1.Write a function that accepts a positive integer as a parameter and then returns a\n",
    " representation of that number in binary (base 2)'''\n",
    "def to_binary(n):\n",
    "    if n <= 0:\n",
    "        return \"Please enter a positive integer.\"\n",
    "    \n",
    "    binary_rep = \"\"\n",
    "    \n",
    "    # Keep dividing the number by 2 until it becomes 0\n",
    "    while n > 0:\n",
    "        remainder = n % 2  # This gives us the last digit of the binary number\n",
    "        binary_rep = str(remainder) + binary_rep  # Add the remainder at the front\n",
    "        n = n // 2  # Divide the number by 2\n",
    "    \n",
    "    return binary_rep\n",
    "\n",
    "print(to_binary(5)) \n",
    "print(to_binary(-2))\n"
   ]
  },
  {
   "cell_type": "code",
   "execution_count": 3,
   "id": "790d2240-903c-470f-9ff8-02b9848cd0df",
   "metadata": {},
   "outputs": [
    {
     "name": "stdout",
     "output_type": "stream",
     "text": [
      "[1, 3, 9]\n",
      "[1, 2, 7, 14]\n",
      "Please enter a positive integer.\n"
     ]
    }
   ],
   "source": [
    "'''2. Write and test a function that takes an integer as its parameter and returns the\n",
    " factors of that integer. (A factor is an integer which can be multiplied by another to\n",
    " yield the original)'''\n",
    "\n",
    "def find_factors(n):\n",
    "    if n <= 0:\n",
    "        return \"Please enter a positive integer.\"\n",
    "    \n",
    "    factors = []\n",
    "    for i in range(1, n + 1):  # Loop from 1 to n\n",
    "          # If the remainder is 0, then i is a factor of n\n",
    "        if n % i == 0:\n",
    "            # Add i to the list of factors\n",
    "            factors.append(i)  # Add i to the list of factors\n",
    "    \n",
    "    return factors\n",
    "\n",
    "# Example usage:\n",
    "print(find_factors(9))  \n",
    "print(find_factors(14))\n",
    "print(find_factors(-7))  "
   ]
  },
  {
   "cell_type": "code",
   "execution_count": 5,
   "id": "24fe9ce0-66e9-46cb-956f-6211bb339143",
   "metadata": {},
   "outputs": [
    {
     "name": "stdout",
     "output_type": "stream",
     "text": [
      "False\n",
      "False\n",
      "False\n",
      "True\n",
      "False\n",
      "False\n"
     ]
    }
   ],
   "source": [
    "'''3.Write and test a function that determines if a given integer is a prime number. A\n",
    " prime number is an integer greater than 1 that cannot be produced by multiplying\n",
    " two other integers.'''\n",
    "def is_prime(n):\n",
    "    if n <= 1:\n",
    "        return False  \n",
    "    #Check divisibility up to the square root of n\n",
    "    for i in range(2, int(n**0.5) + 1):  \n",
    "        if n % i == 0:\n",
    "            # If n is divisible by any number other than 1 and itself, it's not prime\n",
    "            return False \n",
    "    return True  \n",
    "\n",
    "\n",
    "print(is_prime(22))   \n",
    "print(is_prime(30))   \n",
    "print(is_prime(40))\n",
    "print(is_prime(17)) \n",
    "print(is_prime(99)) \n",
    "print(is_prime(1))   "
   ]
  },
  {
   "cell_type": "code",
   "execution_count": 7,
   "id": "a13b4f73-b47b-4f39-8046-f5dae7e51548",
   "metadata": {},
   "outputs": [
    {
     "name": "stdout",
     "output_type": "stream",
     "text": [
      "dlroWolleH\n",
      "segassemtpyrcnE\n",
      "nohtyPolleh\n"
     ]
    }
   ],
   "source": [
    "'''4.Computers are commonly used in encryption. A very simple form of encryption\n",
    " (more accurately \"obfuscation\") would be to remove the spaces from a message\n",
    " and reverse the resulting string. Write, and test, a function that takes a string\n",
    " containing a message and \"encrypts\" it in this way.'''\n",
    "def encrypt_message(message):\n",
    "    # Remove spaces from the message\n",
    "    no_spaces = message.replace(\" \", \"\")\n",
    "    \n",
    "    # Reverse the string\n",
    "    encrypted_message = no_spaces[::-1]\n",
    "    \n",
    "    return encrypted_message\n",
    "\n",
    "\n",
    "print(encrypt_message(\"Hello World\"))  \n",
    "print(encrypt_message(\"Encrypt messages\"))  \n",
    "print(encrypt_message(\"  hello      Python       \"))  \n"
   ]
  },
  {
   "cell_type": "code",
   "execution_count": 11,
   "id": "bcb1c920-4810-4242-b0a4-5e485da8e3f5",
   "metadata": {},
   "outputs": [
    {
     "name": "stdout",
     "output_type": "stream",
     "text": [
      "Encrypted message: EenBc6rDyZpftEed a emBes4s5aYg7e\n",
      "Interval used: 16\n"
     ]
    }
   ],
   "source": [
    "'''5. Another way to hide a message is to include the letters that make it up within\n",
    " seemingly random text. The letters of the message might be every fi h character,\n",
    " for example. Write and test a function that does such encryption. It should\n",
    " randomly generate an interval (between 2 and 20), space the message out\n",
    " accordingly, and should fill the gaps with random letters. The function should\n",
    " return the encrypted message and the interval used.\n",
    "  '''\n",
    "\n",
    "\n",
    "import random\n",
    "\n",
    "def encrypt_message(message):\n",
    "    # Pick a random number between 2 and 20\n",
    "    interval = random.randint(2, 20)\n",
    "    \n",
    "    # Manually create a list of characters (could be lowercase, digits, or uppercase)\n",
    "    characters = \"abcdefABCDEFXYZ0123456789\"\n",
    "    \n",
    "    # Create a new list where we will build our encrypted message\n",
    "    encrypted_message = \"\"\n",
    "    \n",
    "    # Go through each letter of the message\n",
    "    for letter in message:\n",
    "        encrypted_message += letter  # Add the letter to the message\n",
    "        if letter != message[-1]:  # If it's not the last letter\n",
    "            random_char = random.choice(characters)  # Pick a random character from the list\n",
    "            encrypted_message += random_char  # Add the random character\n",
    "    \n",
    "    # Now, split the message into parts, each part is 'interval' letters long\n",
    "    spaced_message = \"\"\n",
    "    for i in range(0, len(encrypted_message), interval):\n",
    "        spaced_message += encrypted_message[i:i + interval] + \" \"  # Add a space after every part\n",
    "    \n",
    "    # Return the final encrypted message and the interval used\n",
    "    return spaced_message.strip(), interval\n",
    "\n",
    "encrypted, interval = encrypt_message(\"Encrypted message\")\n",
    "print(f\"Encrypted message: {encrypted}\")\n",
    "print(f\"Interval used: {interval}\")\n"
   ]
  },
  {
   "cell_type": "code",
   "execution_count": 13,
   "id": "37dc8670-8bc7-4c31-bc78-a3c0dfbb4cb5",
   "metadata": {},
   "outputs": [
    {
     "name": "stdout",
     "output_type": "stream",
     "text": [
      "Decrypted message: qetuom\n"
     ]
    }
   ],
   "source": [
    "'''6. Write a program that decrypts messages encoded as above.'''\n",
    "import random\n",
    "\n",
    "def decrypt_message(encrypted_message, interval):\n",
    "    # Remove the spaces and split the encrypted message into parts\n",
    "    encrypted_message = encrypted_message.replace(\" \", \"\")\n",
    "    \n",
    "    # Create an empty string to hold the decrypted message\n",
    "    decrypted_message = \"\"\n",
    "    \n",
    "    # Go through the encrypted message, taking every 'interval' character\n",
    "    # and adding it to the decrypted message\n",
    "    for i in range(0, len(encrypted_message), 2):  # Skip the random letters\n",
    "        decrypted_message += encrypted_message[i]\n",
    "    \n",
    "    return decrypted_message\n",
    "\n",
    "encrypted_message = \"qwertyuiopmh\" \n",
    "interval = 2  \n",
    "\n",
    "decrypted = decrypt_message(encrypted_message, interval)\n",
    "print(f\"Decrypted message: {decrypted}\")\n"
   ]
  }
 ],
 "metadata": {
  "kernelspec": {
   "display_name": "Python 3 (ipykernel)",
   "language": "python",
   "name": "python3"
  },
  "language_info": {
   "codemirror_mode": {
    "name": "ipython",
    "version": 3
   },
   "file_extension": ".py",
   "mimetype": "text/x-python",
   "name": "python",
   "nbconvert_exporter": "python",
   "pygments_lexer": "ipython3",
   "version": "3.12.6"
  }
 },
 "nbformat": 4,
 "nbformat_minor": 5
}
