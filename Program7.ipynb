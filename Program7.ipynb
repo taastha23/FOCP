{
 "cells": [
  {
   "cell_type": "code",
   "execution_count": 16,
   "id": "f3722fe5-9ff4-4af5-b0f5-0dbc9c4ae92b",
   "metadata": {},
   "outputs": [
    {
     "name": "stdout",
     "output_type": "stream",
     "text": [
      "['c', 'e', 'h', 's']\n"
     ]
    }
   ],
   "source": [
    "'''1. Write and test a function that takes a string as a parameter and returns a sorted list\n",
    " of all the unique letters used in the string. So, if the string is cheese, the list\n",
    " returned should be ['c', 'e', 'h', 's'].'''\n",
    "\n",
    "\n",
    "def unique_sorted_letters(word):\n",
    "    # Convert the string to a set to remove duplicates, then sort the result\n",
    "    return sorted(set(word))\n",
    "\n",
    "# Test the function\n",
    "word = \"cheese\"\n",
    "unique_letters = unique_sorted_letters(word)\n",
    "\n",
    "print(unique_letters)"
   ]
  },
  {
   "cell_type": "code",
   "execution_count": 22,
   "id": "ba02e194-6067-4b17-8bdc-6fff5b6bb89a",
   "metadata": {},
   "outputs": [
    {
     "name": "stdout",
     "output_type": "stream",
     "text": [
      "Union: ['b', 'c', 'e', 'h', 'r', 's', 'z']\n",
      "Intersection: ['e']\n",
      "Symmetric Difference: ['b', 'c', 'h', 'r', 's', 'z']\n"
     ]
    }
   ],
   "source": [
    "'''2.Write and test three functions that each take two words (strings) as parameters and\n",
    " return sorted lists (as defined above) representing respectively:\n",
    " Letters that appear in at least one of the two words.\n",
    " Letters that appear in both words.\n",
    " Letters that appear in either word, but not in both.'''\n",
    "\n",
    "\n",
    "def unique_sorted_letters(word):\n",
    "    #  function to return the sorted list of unique letters\n",
    "    return sorted(set(word))\n",
    "\n",
    "# (Union)\n",
    "def union_of_letters(fun1, fun2):\n",
    "    return sorted(set(fun1) | set(fun2))\n",
    "\n",
    "# (Intersection)\n",
    "def intersection_of_letters(fun1, fun2):\n",
    "    return sorted(set(fun1) & set(fun2))  \n",
    "# (Symmetric Difference)\n",
    "def symmetric_difference_of_letters(fun1, fun2):\n",
    "    return sorted(set(fun1) ^ set(fun2))  \n",
    "\n",
    "fun1=\"cheese\"\n",
    "fun2=\"breeze\"\n",
    "\n",
    "\n",
    "union_result = union_of_letters(fun1, fun2)\n",
    "print(f\"Union: {union_result}\")\n",
    "\n",
    "\n",
    "# Letters that appear in both words (Intersection)\n",
    "intersection_result = intersection_of_letters(fun1, fun2)\n",
    "print(f\"Intersection: {intersection_result}\")\n",
    "\n",
    "# Letters that appear in either word, but not in both (Symmetric Difference)\n",
    "symmetric_diff_result = symmetric_difference_of_letters(fun1, fun2)\n",
    "print(f\"Symmetric Difference: {symmetric_diff_result}\")\n"
   ]
  },
  {
   "cell_type": "code",
   "execution_count": 34,
   "id": "c4eb27f8-43c1-4aaf-b16e-9eb2b7172aaa",
   "metadata": {},
   "outputs": [
    {
     "name": "stdin",
     "output_type": "stream",
     "text": [
      "Enter the name of a country (or type 'exit' to quit):  NEpal\n"
     ]
    },
    {
     "name": "stdout",
     "output_type": "stream",
     "text": [
      "The capital of Nepal is Kathmandu.\n"
     ]
    },
    {
     "name": "stdin",
     "output_type": "stream",
     "text": [
      "Enter the name of a country (or type 'exit' to quit):  Germany\n"
     ]
    },
    {
     "name": "stdout",
     "output_type": "stream",
     "text": [
      "The capital of Germany is Berlin.\n"
     ]
    },
    {
     "name": "stdin",
     "output_type": "stream",
     "text": [
      "Enter the name of a country (or type 'exit' to quit):  exIT\n"
     ]
    },
    {
     "name": "stdout",
     "output_type": "stream",
     "text": [
      "Goodbye!\n"
     ]
    }
   ],
   "source": [
    "'''3.Write a program that manages a list of countries and their capital cities. It should\n",
    " prompt the user to enter the name of a country. If the program already \"knows\"\n",
    " the name of the capital city, it should display it. Otherwise it should ask the user to\n",
    " enter it.'''\n",
    "\n",
    "\n",
    "# Dictionary to store countries and their capitals\n",
    "Country_Capital = {\n",
    "    \"nepal\": \"Kathmandu\",\n",
    "    \"usa\": \"Washington D.C.\",\n",
    "    \"australia\": \"Canberra\",\n",
    "    \"germany\": \"Berlin\"\n",
    "}\n",
    "\n",
    "while True:\n",
    "    # Prompt the user to enter a country (in any case)\n",
    "    country = input(\"Enter the name of a country (or type 'exit' to quit): \").strip().lower()\n",
    "\n",
    "    # Check if the user wants to exit\n",
    "    if country == 'exit':\n",
    "        print(\"Goodbye!\")\n",
    "        break\n",
    "\n",
    "    # Check if the country is already known in the dictionary\n",
    "    if country in Country_Capital:\n",
    "        print(f\"The capital of {country.capitalize()} is {Country_Capital[country]}.\")\n",
    "    else:\n",
    "        # If the country is not known, ask the user to provide the capital\n",
    "        capital = input(f\"Sorry, I don't know the capital of {country.capitalize()}. Please enter the capital: \").strip()\n",
    "\n",
    "        # Add the new country and capital to the dictionary\n",
    "        Country_Capital[country] = capital\n",
    "        print(f\"Thank you! I now know that the capital of {country.capitalize()} is {capital}.\")\n"
   ]
  },
  {
   "cell_type": "code",
   "execution_count": 36,
   "id": "49e196a1-d452-4ef1-a662-5aa44c6df9a9",
   "metadata": {},
   "outputs": [
    {
     "name": "stdin",
     "output_type": "stream",
     "text": [
      "Enter the message:  frequencIES\n"
     ]
    },
    {
     "name": "stdout",
     "output_type": "stream",
     "text": [
      "Top 6 most common letters:\n",
      "E: 3\n",
      "F: 1\n",
      "R: 1\n",
      "Q: 1\n",
      "U: 1\n",
      "N: 1\n"
     ]
    }
   ],
   "source": [
    "''' 4.Write a program that processes a string representing a message and reports the six\n",
    " most common letters, along with the number of times they appear. Case should\n",
    " not matter, so \"E\" and \"e\" are considered the same.'''\n",
    "\n",
    "from collections import defaultdict\n",
    "\n",
    "def frequency_analysis(message):\n",
    "    # Initialize a dictionary with default value of 0 for each letter\n",
    "    letter_counts = defaultdict(int)\n",
    "    \n",
    "    # Process the message: convert it to lowercase and count the letters\n",
    "    for char in message.lower():\n",
    "        if char.isalpha():  # Ignore non-alphabetical characters\n",
    "            letter_counts[char] += 1\n",
    "    \n",
    "    # Sort the dictionary by frequency in descending order and get the top 6\n",
    "    sorted_letters = sorted(letter_counts.items(), key=lambda x: x[1], reverse=True)[:6]\n",
    "    \n",
    "    # Print the top 6 most common letters and their frequencies\n",
    "    print(\"Top 6 most common letters:\")\n",
    "    for letter, count in sorted_letters:\n",
    "        print(f\"{letter.upper()}: {count}\")\n",
    "\n",
    "\n",
    "message = input(\"Enter the message: \")\n",
    "frequency_analysis(message)"
   ]
  }
 ],
 "metadata": {
  "kernelspec": {
   "display_name": "Python 3 (ipykernel)",
   "language": "python",
   "name": "python3"
  },
  "language_info": {
   "codemirror_mode": {
    "name": "ipython",
    "version": 3
   },
   "file_extension": ".py",
   "mimetype": "text/x-python",
   "name": "python",
   "nbconvert_exporter": "python",
   "pygments_lexer": "ipython3",
   "version": "3.12.6"
  }
 },
 "nbformat": 4,
 "nbformat_minor": 5
}
